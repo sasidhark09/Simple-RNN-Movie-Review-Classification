{
 "cells": [
  {
   "cell_type": "code",
   "execution_count": 55,
   "id": "f94b353c-c700-4092-a21a-52560c5729fd",
   "metadata": {},
   "outputs": [],
   "source": [
    "import numpy as np\n",
    "import tensorflow as tf\n",
    "from tensorflow.keras.datasets import imdb\n",
    "from tensorflow.keras.preprocessing import sequence\n",
    "from tensorflow.keras.models import Sequential\n",
    "from tensorflow.keras.layers import Embedding, SimpleRNN, Dense"
   ]
  },
  {
   "cell_type": "code",
   "execution_count": 57,
   "id": "8af1b5ff-d4d3-4492-9f00-33788b866cae",
   "metadata": {},
   "outputs": [],
   "source": [
    "from tensorflow.keras.models import load_model"
   ]
  },
  {
   "cell_type": "code",
   "execution_count": 59,
   "id": "2c51d005-ac89-414d-8ed3-9b1842210ea0",
   "metadata": {},
   "outputs": [],
   "source": [
    "word_index = imdb.get_word_index()\n",
    "reverse_word_index = {value:key for key,value in word_index.items()}"
   ]
  },
  {
   "cell_type": "code",
   "execution_count": 61,
   "id": "89c639de-1f63-48ce-be65-c2ba55e05f4f",
   "metadata": {},
   "outputs": [
    {
     "name": "stderr",
     "output_type": "stream",
     "text": [
      "WARNING:absl:Compiled the loaded model, but the compiled metrics have yet to be built. `model.compile_metrics` will be empty until you train or evaluate the model.\n"
     ]
    },
    {
     "data": {
      "text/html": [
       "<pre style=\"white-space:pre;overflow-x:auto;line-height:normal;font-family:Menlo,'DejaVu Sans Mono',consolas,'Courier New',monospace\"><span style=\"font-weight: bold\">Model: \"sequential_5\"</span>\n",
       "</pre>\n"
      ],
      "text/plain": [
       "\u001b[1mModel: \"sequential_5\"\u001b[0m\n"
      ]
     },
     "metadata": {},
     "output_type": "display_data"
    },
    {
     "data": {
      "text/html": [
       "<pre style=\"white-space:pre;overflow-x:auto;line-height:normal;font-family:Menlo,'DejaVu Sans Mono',consolas,'Courier New',monospace\">┏━━━━━━━━━━━━━━━━━━━━━━━━━━━━━━━━━━━━━━┳━━━━━━━━━━━━━━━━━━━━━━━━━━━━━┳━━━━━━━━━━━━━━━━━┓\n",
       "┃<span style=\"font-weight: bold\"> Layer (type)                         </span>┃<span style=\"font-weight: bold\"> Output Shape                </span>┃<span style=\"font-weight: bold\">         Param # </span>┃\n",
       "┡━━━━━━━━━━━━━━━━━━━━━━━━━━━━━━━━━━━━━━╇━━━━━━━━━━━━━━━━━━━━━━━━━━━━━╇━━━━━━━━━━━━━━━━━┩\n",
       "│ embedding_5 (<span style=\"color: #0087ff; text-decoration-color: #0087ff\">Embedding</span>)              │ (<span style=\"color: #00af00; text-decoration-color: #00af00\">32</span>, <span style=\"color: #00af00; text-decoration-color: #00af00\">500</span>, <span style=\"color: #00af00; text-decoration-color: #00af00\">128</span>)              │       <span style=\"color: #00af00; text-decoration-color: #00af00\">1,280,000</span> │\n",
       "├──────────────────────────────────────┼─────────────────────────────┼─────────────────┤\n",
       "│ simple_rnn_5 (<span style=\"color: #0087ff; text-decoration-color: #0087ff\">SimpleRNN</span>)             │ (<span style=\"color: #00af00; text-decoration-color: #00af00\">32</span>, <span style=\"color: #00af00; text-decoration-color: #00af00\">128</span>)                   │          <span style=\"color: #00af00; text-decoration-color: #00af00\">32,896</span> │\n",
       "├──────────────────────────────────────┼─────────────────────────────┼─────────────────┤\n",
       "│ dense_5 (<span style=\"color: #0087ff; text-decoration-color: #0087ff\">Dense</span>)                      │ (<span style=\"color: #00af00; text-decoration-color: #00af00\">32</span>, <span style=\"color: #00af00; text-decoration-color: #00af00\">1</span>)                     │             <span style=\"color: #00af00; text-decoration-color: #00af00\">129</span> │\n",
       "└──────────────────────────────────────┴─────────────────────────────┴─────────────────┘\n",
       "</pre>\n"
      ],
      "text/plain": [
       "┏━━━━━━━━━━━━━━━━━━━━━━━━━━━━━━━━━━━━━━┳━━━━━━━━━━━━━━━━━━━━━━━━━━━━━┳━━━━━━━━━━━━━━━━━┓\n",
       "┃\u001b[1m \u001b[0m\u001b[1mLayer (type)                        \u001b[0m\u001b[1m \u001b[0m┃\u001b[1m \u001b[0m\u001b[1mOutput Shape               \u001b[0m\u001b[1m \u001b[0m┃\u001b[1m \u001b[0m\u001b[1m        Param #\u001b[0m\u001b[1m \u001b[0m┃\n",
       "┡━━━━━━━━━━━━━━━━━━━━━━━━━━━━━━━━━━━━━━╇━━━━━━━━━━━━━━━━━━━━━━━━━━━━━╇━━━━━━━━━━━━━━━━━┩\n",
       "│ embedding_5 (\u001b[38;5;33mEmbedding\u001b[0m)              │ (\u001b[38;5;34m32\u001b[0m, \u001b[38;5;34m500\u001b[0m, \u001b[38;5;34m128\u001b[0m)              │       \u001b[38;5;34m1,280,000\u001b[0m │\n",
       "├──────────────────────────────────────┼─────────────────────────────┼─────────────────┤\n",
       "│ simple_rnn_5 (\u001b[38;5;33mSimpleRNN\u001b[0m)             │ (\u001b[38;5;34m32\u001b[0m, \u001b[38;5;34m128\u001b[0m)                   │          \u001b[38;5;34m32,896\u001b[0m │\n",
       "├──────────────────────────────────────┼─────────────────────────────┼─────────────────┤\n",
       "│ dense_5 (\u001b[38;5;33mDense\u001b[0m)                      │ (\u001b[38;5;34m32\u001b[0m, \u001b[38;5;34m1\u001b[0m)                     │             \u001b[38;5;34m129\u001b[0m │\n",
       "└──────────────────────────────────────┴─────────────────────────────┴─────────────────┘\n"
      ]
     },
     "metadata": {},
     "output_type": "display_data"
    },
    {
     "data": {
      "text/html": [
       "<pre style=\"white-space:pre;overflow-x:auto;line-height:normal;font-family:Menlo,'DejaVu Sans Mono',consolas,'Courier New',monospace\"><span style=\"font-weight: bold\"> Total params: </span><span style=\"color: #00af00; text-decoration-color: #00af00\">1,313,027</span> (5.01 MB)\n",
       "</pre>\n"
      ],
      "text/plain": [
       "\u001b[1m Total params: \u001b[0m\u001b[38;5;34m1,313,027\u001b[0m (5.01 MB)\n"
      ]
     },
     "metadata": {},
     "output_type": "display_data"
    },
    {
     "data": {
      "text/html": [
       "<pre style=\"white-space:pre;overflow-x:auto;line-height:normal;font-family:Menlo,'DejaVu Sans Mono',consolas,'Courier New',monospace\"><span style=\"font-weight: bold\"> Trainable params: </span><span style=\"color: #00af00; text-decoration-color: #00af00\">1,313,025</span> (5.01 MB)\n",
       "</pre>\n"
      ],
      "text/plain": [
       "\u001b[1m Trainable params: \u001b[0m\u001b[38;5;34m1,313,025\u001b[0m (5.01 MB)\n"
      ]
     },
     "metadata": {},
     "output_type": "display_data"
    },
    {
     "data": {
      "text/html": [
       "<pre style=\"white-space:pre;overflow-x:auto;line-height:normal;font-family:Menlo,'DejaVu Sans Mono',consolas,'Courier New',monospace\"><span style=\"font-weight: bold\"> Non-trainable params: </span><span style=\"color: #00af00; text-decoration-color: #00af00\">0</span> (0.00 B)\n",
       "</pre>\n"
      ],
      "text/plain": [
       "\u001b[1m Non-trainable params: \u001b[0m\u001b[38;5;34m0\u001b[0m (0.00 B)\n"
      ]
     },
     "metadata": {},
     "output_type": "display_data"
    },
    {
     "data": {
      "text/html": [
       "<pre style=\"white-space:pre;overflow-x:auto;line-height:normal;font-family:Menlo,'DejaVu Sans Mono',consolas,'Courier New',monospace\"><span style=\"font-weight: bold\"> Optimizer params: </span><span style=\"color: #00af00; text-decoration-color: #00af00\">2</span> (12.00 B)\n",
       "</pre>\n"
      ],
      "text/plain": [
       "\u001b[1m Optimizer params: \u001b[0m\u001b[38;5;34m2\u001b[0m (12.00 B)\n"
      ]
     },
     "metadata": {},
     "output_type": "display_data"
    }
   ],
   "source": [
    "model = load_model('simple_rnn_imdb.h5')\n",
    "model.summary()"
   ]
  },
  {
   "cell_type": "code",
   "execution_count": 63,
   "id": "eb62af96-d810-4f6b-8984-a471edc12684",
   "metadata": {},
   "outputs": [
    {
     "data": {
      "text/plain": [
       "[array([[-0.8437338 ,  0.5585957 , -0.49291864, ...,  0.5664065 ,\n",
       "         -0.7950219 ,  0.75623983],\n",
       "        [-0.06671331,  0.09620028, -0.04789526, ...,  0.02456458,\n",
       "          0.0307985 ,  0.05870507],\n",
       "        [-0.07811564,  0.02615987, -0.02300712, ..., -0.03803699,\n",
       "         -0.11995585,  0.08621158],\n",
       "        ...,\n",
       "        [-0.01698306, -0.11444738,  0.09984431, ..., -0.09803916,\n",
       "          0.11477827, -0.07651632],\n",
       "        [-0.06932762, -0.08128655,  0.04970968, ..., -0.11024258,\n",
       "          0.07235844, -0.04374019],\n",
       "        [-0.06812771,  0.07788155, -0.18224919, ..., -0.03070384,\n",
       "         -0.11758932,  0.02313358]], dtype=float32),\n",
       " array([[-0.11191977,  0.1266526 ,  0.04003026, ...,  0.13183922,\n",
       "          0.04305281,  0.05215756],\n",
       "        [ 0.12406954, -0.02781852, -0.00160696, ...,  0.09241962,\n",
       "          0.00734204, -0.00596311],\n",
       "        [-0.13655593,  0.01672504,  0.0713118 , ..., -0.07512284,\n",
       "          0.0246218 , -0.10038316],\n",
       "        ...,\n",
       "        [-0.03037013, -0.07602725,  0.06990585, ..., -0.12390224,\n",
       "          0.15403838,  0.01443559],\n",
       "        [-0.05657487,  0.06404042,  0.07461366, ...,  0.20649053,\n",
       "         -0.04203345,  0.09521001],\n",
       "        [-0.08813751, -0.06425653, -0.14474925, ..., -0.01830638,\n",
       "         -0.06379206, -0.15281564]], dtype=float32),\n",
       " array([[-2.15552434e-01,  2.09516026e-02, -3.90365869e-02, ...,\n",
       "         -1.22473165e-01,  5.98365478e-02,  7.66909774e-03],\n",
       "        [ 1.14246286e-01, -1.14449792e-01, -3.71540934e-02, ...,\n",
       "          4.02204096e-02,  1.14911593e-01, -4.73238714e-02],\n",
       "        [-8.34703073e-02, -1.39512584e-01, -1.45492077e-01, ...,\n",
       "          2.26428956e-02,  1.02642573e-01,  9.26032569e-03],\n",
       "        ...,\n",
       "        [ 5.83675988e-02,  3.07476451e-03,  1.22630401e-02, ...,\n",
       "         -1.78226642e-02, -6.75482973e-02, -1.59061290e-02],\n",
       "        [-7.40981773e-02, -1.56064540e-01,  2.72490710e-01, ...,\n",
       "         -2.22728346e-02,  1.12426744e-04, -2.66318411e-01],\n",
       "        [-2.18795314e-01, -6.42631110e-03, -3.77211757e-02, ...,\n",
       "         -1.95223600e-01, -9.19709802e-02,  2.08012480e-02]], dtype=float32),\n",
       " array([ 0.01913269, -0.01874739, -0.05003558, -0.04185443, -0.03364234,\n",
       "        -0.01300961, -0.02395013,  0.02956444, -0.0064514 , -0.03957543,\n",
       "        -0.0092813 , -0.03984061, -0.03321968, -0.00394836,  0.04300252,\n",
       "         0.04429491,  0.03159849,  0.00660934,  0.01129224,  0.02056441,\n",
       "        -0.0150677 ,  0.02658402, -0.03684738, -0.04727033,  0.03484502,\n",
       "        -0.0406552 ,  0.02592718, -0.02097933,  0.01292072, -0.02840136,\n",
       "         0.0306244 ,  0.03897693,  0.03473613,  0.03548509, -0.01034468,\n",
       "        -0.03383831,  0.02390293, -0.01120446, -0.02755126, -0.04137376,\n",
       "         0.02194685, -0.02038311,  0.02901986,  0.01473878,  0.02574134,\n",
       "        -0.03151674, -0.04188424, -0.01402341,  0.03631751, -0.02486814,\n",
       "        -0.03918171, -0.03668265, -0.02375865,  0.00481152, -0.0306008 ,\n",
       "         0.02545235, -0.02490213, -0.03943824, -0.03591957,  0.01306858,\n",
       "         0.00809121, -0.00845096,  0.01656704,  0.04530796,  0.02657118,\n",
       "        -0.02269015,  0.02471005,  0.0335817 ,  0.07282977,  0.00717895,\n",
       "        -0.03008915, -0.04992741, -0.03285354, -0.04449878, -0.00040787,\n",
       "         0.02964944, -0.04443852, -0.00228587, -0.03377987, -0.05182007,\n",
       "        -0.05498077, -0.04222567, -0.04625761,  0.01243857,  0.04454315,\n",
       "         0.00171164,  0.00520811, -0.02657897, -0.02053605, -0.0275115 ,\n",
       "         0.02605937,  0.00419508, -0.04741312,  0.01495207, -0.01318978,\n",
       "        -0.04564779,  0.02336751, -0.05227018,  0.03540253,  0.01262621,\n",
       "        -0.01990665, -0.02715864, -0.00087669, -0.03852986,  0.02890978,\n",
       "         0.02926776,  0.00753211, -0.02530611, -0.01317742, -0.04282052,\n",
       "        -0.05306993, -0.00205169, -0.01175499, -0.03737587,  0.03026563,\n",
       "        -0.06169787, -0.03471226, -0.00936384,  0.02204897,  0.02476263,\n",
       "         0.02527463, -0.05228619,  0.06486569,  0.01312326,  0.06369697,\n",
       "        -0.0418823 , -0.03408553, -0.04821636], dtype=float32),\n",
       " array([[ 2.0070405e-01],\n",
       "        [-2.5048872e-02],\n",
       "        [ 3.4297772e-02],\n",
       "        [-1.7181951e-01],\n",
       "        [ 4.6086617e-02],\n",
       "        [-1.8695891e-02],\n",
       "        [ 1.7238443e-01],\n",
       "        [ 1.6212486e-01],\n",
       "        [-1.3892905e-01],\n",
       "        [ 1.3617702e-01],\n",
       "        [ 8.5887881e-03],\n",
       "        [ 1.2307239e-01],\n",
       "        [ 1.7149743e-01],\n",
       "        [-1.3163148e-02],\n",
       "        [ 1.2869275e-01],\n",
       "        [ 3.3462644e-02],\n",
       "        [ 1.5630645e-01],\n",
       "        [ 1.2305763e-01],\n",
       "        [ 2.3069136e-01],\n",
       "        [ 2.3206806e-01],\n",
       "        [-1.2767980e-01],\n",
       "        [ 1.3397313e-02],\n",
       "        [-1.7931747e-01],\n",
       "        [-1.3254200e-01],\n",
       "        [ 1.4375255e-01],\n",
       "        [-1.8331251e-01],\n",
       "        [ 2.0479524e-01],\n",
       "        [ 6.3808814e-02],\n",
       "        [-2.8277284e-01],\n",
       "        [-2.0266689e-01],\n",
       "        [ 1.7764764e-01],\n",
       "        [-8.3210011e-04],\n",
       "        [ 1.4018473e-01],\n",
       "        [ 2.5412214e-01],\n",
       "        [ 1.6323903e-01],\n",
       "        [ 4.7144599e-02],\n",
       "        [ 8.9158662e-02],\n",
       "        [-1.2926380e-01],\n",
       "        [ 1.3086177e-01],\n",
       "        [-4.4178527e-02],\n",
       "        [ 1.4667454e-01],\n",
       "        [ 4.9947388e-02],\n",
       "        [ 1.8889098e-01],\n",
       "        [-1.7120264e-02],\n",
       "        [ 9.8191768e-02],\n",
       "        [-5.4155927e-02],\n",
       "        [-1.3351768e-01],\n",
       "        [-8.0418333e-02],\n",
       "        [ 5.6925047e-02],\n",
       "        [ 7.7627271e-02],\n",
       "        [ 1.3520031e-01],\n",
       "        [-3.0563664e-01],\n",
       "        [-1.4257149e-01],\n",
       "        [-2.9080120e-01],\n",
       "        [-5.1755019e-02],\n",
       "        [-3.8859254e-01],\n",
       "        [-1.6411377e-01],\n",
       "        [-1.9193189e-01],\n",
       "        [-8.8012040e-02],\n",
       "        [-5.7086188e-02],\n",
       "        [ 1.2104425e-01],\n",
       "        [-4.7463998e-02],\n",
       "        [ 2.1975039e-01],\n",
       "        [ 1.6323625e-01],\n",
       "        [ 3.6482848e-02],\n",
       "        [ 1.3866727e-01],\n",
       "        [-1.7367482e-01],\n",
       "        [-7.1218230e-02],\n",
       "        [ 1.1372508e-01],\n",
       "        [ 1.4234337e-01],\n",
       "        [-1.6787732e-01],\n",
       "        [-2.6785837e-02],\n",
       "        [-1.5317839e-01],\n",
       "        [-1.5604439e-01],\n",
       "        [-7.5883090e-02],\n",
       "        [-1.2927112e-01],\n",
       "        [ 2.5756404e-01],\n",
       "        [-6.2772983e-01],\n",
       "        [-1.6045310e-02],\n",
       "        [ 8.0654882e-02],\n",
       "        [ 6.1233066e-02],\n",
       "        [ 1.1798215e-01],\n",
       "        [-9.1411293e-02],\n",
       "        [ 2.9320108e-02],\n",
       "        [ 2.8884417e-01],\n",
       "        [-2.1134523e-01],\n",
       "        [-1.8266881e-02],\n",
       "        [-7.0683688e-02],\n",
       "        [-1.5961030e-01],\n",
       "        [-2.0830274e-01],\n",
       "        [ 1.8244281e-01],\n",
       "        [ 1.4044364e-01],\n",
       "        [ 1.5227741e-01],\n",
       "        [ 1.1970826e-01],\n",
       "        [ 6.2437683e-02],\n",
       "        [-1.2621088e-01],\n",
       "        [-1.3725901e-01],\n",
       "        [-1.2482473e-01],\n",
       "        [-4.0297976e-01],\n",
       "        [ 4.7124540e-03],\n",
       "        [-1.6121438e-01],\n",
       "        [-3.4267206e-03],\n",
       "        [ 1.2506405e-01],\n",
       "        [ 1.3816825e-01],\n",
       "        [-7.2251278e-01],\n",
       "        [ 3.2296848e-01],\n",
       "        [ 1.6039950e-01],\n",
       "        [-1.8436173e-01],\n",
       "        [-3.7243869e-02],\n",
       "        [-1.8509817e-01],\n",
       "        [-2.1126772e-01],\n",
       "        [-1.2010950e+00],\n",
       "        [-2.0523785e-01],\n",
       "        [-9.7841561e-02],\n",
       "        [ 3.1141466e-02],\n",
       "        [-1.1118540e-01],\n",
       "        [-1.8049823e-01],\n",
       "        [ 2.1613905e-02],\n",
       "        [ 2.1981160e-01],\n",
       "        [ 5.8833364e-02],\n",
       "        [ 1.2616386e-01],\n",
       "        [ 1.1443118e-01],\n",
       "        [-2.3951060e-01],\n",
       "        [-3.0081343e-02],\n",
       "        [-1.2151879e-01],\n",
       "        [-1.4361942e-01],\n",
       "        [-7.2523110e-02],\n",
       "        [-4.4032533e-02]], dtype=float32),\n",
       " array([-1.9356579], dtype=float32)]"
      ]
     },
     "execution_count": 63,
     "metadata": {},
     "output_type": "execute_result"
    }
   ],
   "source": [
    "model.get_weights()"
   ]
  },
  {
   "cell_type": "code",
   "execution_count": 65,
   "id": "2587856e-7a6d-4354-9c5e-53f710c336b6",
   "metadata": {},
   "outputs": [],
   "source": [
    "def decode_review(encoded_review):\n",
    "    return ' '.join()([reverse_word_index.get(i-3,'?') for i in encoded_review])\n",
    "\n",
    "def preprocess_text(text):\n",
    "    words = text.lower().split()\n",
    "    encoded_review = [word_index.get(word,2)+3 for word in words]\n",
    "    padded_review = sequence.pad_sequences([encoded_review],maxlen=500)\n",
    "    return padded_review"
   ]
  },
  {
   "cell_type": "code",
   "execution_count": 67,
   "id": "3b5bfa29-3f9c-41c9-948b-53cf0be10e89",
   "metadata": {},
   "outputs": [],
   "source": [
    "## Prediction Function\n",
    "def predict_sentiment(review):\n",
    "    preprocessed_input = preprocess_text(review)\n",
    "    prediction = model.predict(preprocessed_input)\n",
    "    sentiment = 'Positive' if prediction[0][0]>0.5 else 'Negative'\n",
    "    return sentiment,prediction[0][0]\n",
    "    "
   ]
  },
  {
   "cell_type": "code",
   "execution_count": 75,
   "id": "97464a8c-0ca5-4bd1-b5e9-8eac3403afcb",
   "metadata": {},
   "outputs": [],
   "source": [
    "example_review = \"The movie was fantastic! The acting was great and the plot was thrilling\""
   ]
  },
  {
   "cell_type": "code",
   "execution_count": 77,
   "id": "588e7870-01ab-433d-8af7-a194d6a58d43",
   "metadata": {},
   "outputs": [
    {
     "name": "stdout",
     "output_type": "stream",
     "text": [
      "\u001b[1m1/1\u001b[0m \u001b[32m━━━━━━━━━━━━━━━━━━━━\u001b[0m\u001b[37m\u001b[0m \u001b[1m0s\u001b[0m 56ms/step\n"
     ]
    }
   ],
   "source": [
    "sentiment,score = predict_sentiment(example_review)"
   ]
  },
  {
   "cell_type": "code",
   "execution_count": 93,
   "id": "8bb68a82-5b03-4738-b3ba-774257b76050",
   "metadata": {},
   "outputs": [
    {
     "name": "stdout",
     "output_type": "stream",
     "text": [
      "the movie was bad\n",
      "Sentiment:Positive\n",
      "Score:0.999991774559021\n"
     ]
    }
   ],
   "source": [
    "print(\"the movie was bad\")\n",
    "print(f\"Sentiment:{sentiment}\")\n",
    "print(f\"Score:{score}\")"
   ]
  },
  {
   "cell_type": "code",
   "execution_count": null,
   "id": "cc206a68-c21d-4982-9978-fa2dc0edc7ff",
   "metadata": {},
   "outputs": [],
   "source": []
  }
 ],
 "metadata": {
  "kernelspec": {
   "display_name": "Python 3 (ipykernel)",
   "language": "python",
   "name": "python3"
  },
  "language_info": {
   "codemirror_mode": {
    "name": "ipython",
    "version": 3
   },
   "file_extension": ".py",
   "mimetype": "text/x-python",
   "name": "python",
   "nbconvert_exporter": "python",
   "pygments_lexer": "ipython3",
   "version": "3.12.4"
  }
 },
 "nbformat": 4,
 "nbformat_minor": 5
}
